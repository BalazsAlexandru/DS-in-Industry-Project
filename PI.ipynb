{
  "nbformat": 4,
  "nbformat_minor": 0,
  "metadata": {
    "colab": {
      "provenance": []
    },
    "kernelspec": {
      "name": "python3",
      "display_name": "Python 3"
    },
    "language_info": {
      "name": "python"
    }
  },
  "cells": [
    {
      "cell_type": "code",
      "execution_count": 1,
      "metadata": {
        "colab": {
          "base_uri": "https://localhost:8080/"
        },
        "id": "lV-k1P8FECFo",
        "outputId": "6ab71805-eb36-4f69-823f-32f92c4f51d6"
      },
      "outputs": [
        {
          "output_type": "stream",
          "name": "stdout",
          "text": [
            "Looking in indexes: https://pypi.org/simple, https://us-python.pkg.dev/colab-wheels/public/simple/\n",
            "Requirement already satisfied: prophet in /usr/local/lib/python3.8/dist-packages (1.1.2)\n",
            "Requirement already satisfied: tqdm>=4.36.1 in /usr/local/lib/python3.8/dist-packages (from prophet) (4.64.1)\n",
            "Requirement already satisfied: pandas>=1.0.4 in /usr/local/lib/python3.8/dist-packages (from prophet) (1.3.5)\n",
            "Requirement already satisfied: python-dateutil>=2.8.0 in /usr/local/lib/python3.8/dist-packages (from prophet) (2.8.2)\n",
            "Requirement already satisfied: LunarCalendar>=0.0.9 in /usr/local/lib/python3.8/dist-packages (from prophet) (0.0.9)\n",
            "Requirement already satisfied: matplotlib>=2.0.0 in /usr/local/lib/python3.8/dist-packages (from prophet) (3.2.2)\n",
            "Requirement already satisfied: numpy>=1.15.4 in /usr/local/lib/python3.8/dist-packages (from prophet) (1.21.6)\n",
            "Requirement already satisfied: holidays>=0.14.2 in /usr/local/lib/python3.8/dist-packages (from prophet) (0.19)\n",
            "Requirement already satisfied: cmdstanpy>=1.0.4 in /usr/local/lib/python3.8/dist-packages (from prophet) (1.1.0)\n",
            "Requirement already satisfied: convertdate>=2.1.2 in /usr/local/lib/python3.8/dist-packages (from prophet) (2.4.0)\n",
            "Requirement already satisfied: pymeeus<=1,>=0.3.13 in /usr/local/lib/python3.8/dist-packages (from convertdate>=2.1.2->prophet) (0.5.12)\n",
            "Requirement already satisfied: hijri-converter in /usr/local/lib/python3.8/dist-packages (from holidays>=0.14.2->prophet) (2.2.4)\n",
            "Requirement already satisfied: korean-lunar-calendar in /usr/local/lib/python3.8/dist-packages (from holidays>=0.14.2->prophet) (0.3.1)\n",
            "Requirement already satisfied: pytz in /usr/local/lib/python3.8/dist-packages (from LunarCalendar>=0.0.9->prophet) (2022.7.1)\n",
            "Requirement already satisfied: ephem>=3.7.5.3 in /usr/local/lib/python3.8/dist-packages (from LunarCalendar>=0.0.9->prophet) (4.1.4)\n",
            "Requirement already satisfied: pyparsing!=2.0.4,!=2.1.2,!=2.1.6,>=2.0.1 in /usr/local/lib/python3.8/dist-packages (from matplotlib>=2.0.0->prophet) (3.0.9)\n",
            "Requirement already satisfied: kiwisolver>=1.0.1 in /usr/local/lib/python3.8/dist-packages (from matplotlib>=2.0.0->prophet) (1.4.4)\n",
            "Requirement already satisfied: cycler>=0.10 in /usr/local/lib/python3.8/dist-packages (from matplotlib>=2.0.0->prophet) (0.11.0)\n",
            "Requirement already satisfied: six>=1.5 in /usr/local/lib/python3.8/dist-packages (from python-dateutil>=2.8.0->prophet) (1.15.0)\n"
          ]
        }
      ],
      "source": [
        "!pip install prophet\n"
      ]
    },
    {
      "cell_type": "code",
      "source": [
        "import csv\n",
        "import pandas as pd\n",
        "from prophet import Prophet"
      ],
      "metadata": {
        "id": "cQkChPFJEWj_"
      },
      "execution_count": 2,
      "outputs": []
    },
    {
      "cell_type": "code",
      "source": [
        "df = pd.read_csv('western_sentiment.csv')\n",
        "print(df)"
      ],
      "metadata": {
        "colab": {
          "base_uri": "https://localhost:8080/"
        },
        "id": "5i1Yz0Z3EkqC",
        "outputId": "74fab452-d18c-4652-a704-f8d06065fa3d"
      },
      "execution_count": 3,
      "outputs": [
        {
          "output_type": "stream",
          "name": "stdout",
          "text": [
            "      Unnamed: 0            id                             created_at  \\\n",
            "0              0  1.496640e+18  2022-02-24 02:01:32 GTB Standard Time   \n",
            "1              1  1.496640e+18  2022-02-24 02:02:33 GTB Standard Time   \n",
            "2              2  1.496640e+18  2022-02-24 02:03:39 GTB Standard Time   \n",
            "3              3  1.496640e+18  2022-02-24 02:15:19 GTB Standard Time   \n",
            "4              4  1.496640e+18  2022-02-24 02:19:59 GTB Standard Time   \n",
            "...          ...           ...                                    ...   \n",
            "6405       16711  1.523790e+18  2022-05-10 01:29:11 GTB Daylight Time   \n",
            "6406       16714  1.523790e+18  2022-05-10 01:39:12 GTB Daylight Time   \n",
            "6407       16717  1.523800e+18  2022-05-10 01:50:34 GTB Daylight Time   \n",
            "6408       16718  1.523800e+18  2022-05-10 01:57:50 GTB Daylight Time   \n",
            "6409       16722  1.523800e+18  2022-05-10 02:13:02 GTB Daylight Time   \n",
            "\n",
            "           date     time   username       name  \\\n",
            "0     2/24/2022  2:01:32  liveuamap  Liveuamap   \n",
            "1     2/24/2022  2:02:33  liveuamap  Liveuamap   \n",
            "2     2/24/2022  2:03:39  liveuamap  Liveuamap   \n",
            "3     2/24/2022  2:15:19  liveuamap  Liveuamap   \n",
            "4     2/24/2022  2:19:59  liveuamap  Liveuamap   \n",
            "...         ...      ...        ...        ...   \n",
            "6405  5/10/2022  1:29:11    ralee85    Rob Lee   \n",
            "6406  5/10/2022  1:39:12    ralee85    Rob Lee   \n",
            "6407  5/10/2022  1:50:34    ralee85    Rob Lee   \n",
            "6408  5/10/2022  1:57:50    ralee85    Rob Lee   \n",
            "6409  5/10/2022  2:13:02    ralee85    Rob Lee   \n",
            "\n",
            "                                                  tweet language  \\\n",
            "0     UN Security Council to hold emergency session ...       en   \n",
            "1     At 4:30 Kyiv time. Most urgent after years  ht...       en   \n",
            "2     Rare meeting of UNSC the same day(NY time) whe...       en   \n",
            "3     Two Turkish Air Force Airbus A400M entered Ukr...       en   \n",
            "4     Another cyber attack targeting the website of ...       en   \n",
            "...                                                 ...      ...   \n",
            "6405  Video of the aftermath of an artillery strike ...       en   \n",
            "6406  Video from Odesa after todays strikes. 4/  ht...       en   \n",
            "6407  Video of artillery strikes on Russia positions...       en   \n",
            "6408  Video of a low-flying Ukrainian Mi-24 helicopt...       en   \n",
            "6409  Video of a Ukrainian soldier firing an NLAW at...       en   \n",
            "\n",
            "                                               mentions  ... replies_count  \\\n",
            "0     [{'screen_name': 'afp', 'name': 'afp news agen...  ...             5   \n",
            "1                                                    []  ...             2   \n",
            "2                                                    []  ...             1   \n",
            "3     [{'screen_name': 'marqs__', 'name': 'marqs', '...  ...            28   \n",
            "4                                                    []  ...            11   \n",
            "...                                                 ...  ...           ...   \n",
            "6405                                                 []  ...            12   \n",
            "6406                                                 []  ...            10   \n",
            "6407                                                 []  ...            35   \n",
            "6408                                                 []  ...            36   \n",
            "6409                                                 []  ...            43   \n",
            "\n",
            "      retweets_count  likes_count     hashtags  \\\n",
            "0                 40          112  ['ukraine']   \n",
            "1                 28           83           []   \n",
            "2                 17           78           []   \n",
            "3                123          351  ['ukraine']   \n",
            "4                180          389           []   \n",
            "...              ...          ...          ...   \n",
            "6405             118          880           []   \n",
            "6406              96          300           []   \n",
            "6407             406         3203           []   \n",
            "6408             196         2344           []   \n",
            "6409             249         2315           []   \n",
            "\n",
            "                                                   link retweet  video  \\\n",
            "0     https://twitter.com/Liveuamap/status/149663637...   False      0   \n",
            "1     https://twitter.com/Liveuamap/status/149663663...   False      0   \n",
            "2     https://twitter.com/Liveuamap/status/149663690...   False      0   \n",
            "3     https://twitter.com/Liveuamap/status/149663984...   False      1   \n",
            "4     https://twitter.com/Liveuamap/status/149664101...   False      0   \n",
            "...                                                 ...     ...    ...   \n",
            "6405  https://twitter.com/RALee85/status/15237922226...   False      1   \n",
            "6406  https://twitter.com/RALee85/status/15237947448...   False      1   \n",
            "6407  https://twitter.com/RALee85/status/15237976038...   False      1   \n",
            "6408  https://twitter.com/RALee85/status/15237994335...   False      1   \n",
            "6409  https://twitter.com/RALee85/status/15238032586...   False      1   \n",
            "\n",
            "      reply_to views_count  sentiment  \n",
            "0           []        2800  -0.152493  \n",
            "1           []        2075   1.326654  \n",
            "2           []        1950  -0.862471  \n",
            "3           []        8775   3.048466  \n",
            "4           []        9725   0.615685  \n",
            "...        ...         ...        ...  \n",
            "6405        []       22000   2.084022  \n",
            "6406        []        7500  -0.118575  \n",
            "6407        []       80075   4.150844  \n",
            "6408        []       58600   1.616679  \n",
            "6409        []       57875  -0.938575  \n",
            "\n",
            "[6410 rows x 21 columns]\n"
          ]
        }
      ]
    },
    {
      "cell_type": "code",
      "source": [
        "columns = ['date','tweet','sentiment']\n",
        "df = df.reindex(columns=columns)\n",
        "print(df)"
      ],
      "metadata": {
        "colab": {
          "base_uri": "https://localhost:8080/"
        },
        "id": "cwkkT27mEsr4",
        "outputId": "883cf903-b7a5-491a-a603-7833f570d9f1"
      },
      "execution_count": 4,
      "outputs": [
        {
          "output_type": "stream",
          "name": "stdout",
          "text": [
            "           date                                              tweet  sentiment\n",
            "0     2/24/2022  UN Security Council to hold emergency session ...  -0.152493\n",
            "1     2/24/2022  At 4:30 Kyiv time. Most urgent after years  ht...   1.326654\n",
            "2     2/24/2022  Rare meeting of UNSC the same day(NY time) whe...  -0.862471\n",
            "3     2/24/2022  Two Turkish Air Force Airbus A400M entered Ukr...   3.048466\n",
            "4     2/24/2022  Another cyber attack targeting the website of ...   0.615685\n",
            "...         ...                                                ...        ...\n",
            "6405  5/10/2022  Video of the aftermath of an artillery strike ...   2.084022\n",
            "6406  5/10/2022  Video from Odesa after todays strikes. 4/  ht...  -0.118575\n",
            "6407  5/10/2022  Video of artillery strikes on Russia positions...   4.150844\n",
            "6408  5/10/2022  Video of a low-flying Ukrainian Mi-24 helicopt...   1.616679\n",
            "6409  5/10/2022  Video of a Ukrainian soldier firing an NLAW at...  -0.938575\n",
            "\n",
            "[6410 rows x 3 columns]\n"
          ]
        }
      ]
    },
    {
      "cell_type": "code",
      "source": [
        "df_pro=pd.DataFrame()\n",
        "df_pro['ds'] = df['date']\n",
        "df_pro['y'] = df['sentiment'].values\n",
        "m=Prophet()\n",
        "model=m.fit(df_pro)\n",
        "days_in_future=100 #how many days in future to predict\n",
        "future=m.make_future_dataframe(periods=days_in_future, freq = 'D',include_history = 'false') \n",
        "forecast=m.predict(future)\n",
        "print(forecast)"
      ],
      "metadata": {
        "colab": {
          "base_uri": "https://localhost:8080/"
        },
        "id": "DZuNN5RWEvkx",
        "outputId": "44183978-3c8a-4540-cde4-76ed7a3287bb"
      },
      "execution_count": 5,
      "outputs": [
        {
          "output_type": "stream",
          "name": "stderr",
          "text": [
            "INFO:prophet:Disabling yearly seasonality. Run prophet with yearly_seasonality=True to override this.\n",
            "INFO:prophet:Disabling daily seasonality. Run prophet with daily_seasonality=True to override this.\n",
            "DEBUG:cmdstanpy:input tempfile: /tmp/tmpghwcjjma/funxgi8u.json\n",
            "DEBUG:cmdstanpy:input tempfile: /tmp/tmpghwcjjma/adl2gl9c.json\n",
            "DEBUG:cmdstanpy:idx 0\n",
            "DEBUG:cmdstanpy:running CmdStan, num_threads: None\n",
            "DEBUG:cmdstanpy:CmdStan args: ['/usr/local/lib/python3.8/dist-packages/prophet/stan_model/prophet_model.bin', 'random', 'seed=22658', 'data', 'file=/tmp/tmpghwcjjma/funxgi8u.json', 'init=/tmp/tmpghwcjjma/adl2gl9c.json', 'output', 'file=/tmp/tmpghwcjjma/prophet_modeleaj9eql5/prophet_model-20230204213616.csv', 'method=optimize', 'algorithm=lbfgs', 'iter=10000']\n",
            "21:36:16 - cmdstanpy - INFO - Chain [1] start processing\n",
            "INFO:cmdstanpy:Chain [1] start processing\n",
            "21:36:17 - cmdstanpy - INFO - Chain [1] done processing\n",
            "INFO:cmdstanpy:Chain [1] done processing\n"
          ]
        },
        {
          "output_type": "stream",
          "name": "stdout",
          "text": [
            "            ds     trend  yhat_lower  yhat_upper  trend_lower  trend_upper  \\\n",
            "0   2022-02-24  2.112790   -0.907579    4.787523     2.112790     2.112790   \n",
            "1   2022-02-25  2.125849   -0.606614    5.116807     2.125849     2.125849   \n",
            "2   2022-02-26  2.138908   -0.473307    4.992450     2.138908     2.138908   \n",
            "3   2022-02-27  2.151967   -0.717747    4.769265     2.151967     2.151967   \n",
            "4   2022-02-28  2.165026   -0.736652    4.970438     2.165026     2.165026   \n",
            "..         ...       ...         ...         ...          ...          ...   \n",
            "171 2022-08-14  1.175656   -1.729861    4.064607     0.578241     1.727772   \n",
            "172 2022-08-15  1.165244   -1.572495    3.988376     0.553636     1.726236   \n",
            "173 2022-08-16  1.154832   -1.490401    4.173075     0.538325     1.726878   \n",
            "174 2022-08-17  1.144420   -1.766118    3.975277     0.516496     1.726758   \n",
            "175 2022-08-18  1.134008   -1.671169    4.113641     0.500018     1.726152   \n",
            "\n",
            "     additive_terms  additive_terms_lower  additive_terms_upper    weekly  \\\n",
            "0         -0.024363             -0.024363             -0.024363 -0.024363   \n",
            "1          0.001908              0.001908              0.001908  0.001908   \n",
            "2          0.088956              0.088956              0.088956  0.088956   \n",
            "3         -0.049462             -0.049462             -0.049462 -0.049462   \n",
            "4         -0.017626             -0.017626             -0.017626 -0.017626   \n",
            "..              ...                   ...                   ...       ...   \n",
            "171       -0.049462             -0.049462             -0.049462 -0.049462   \n",
            "172       -0.017626             -0.017626             -0.017626 -0.017626   \n",
            "173        0.020220              0.020220              0.020220  0.020220   \n",
            "174       -0.019632             -0.019632             -0.019632 -0.019632   \n",
            "175       -0.024363             -0.024363             -0.024363 -0.024363   \n",
            "\n",
            "     weekly_lower  weekly_upper  multiplicative_terms  \\\n",
            "0       -0.024363     -0.024363                   0.0   \n",
            "1        0.001908      0.001908                   0.0   \n",
            "2        0.088956      0.088956                   0.0   \n",
            "3       -0.049462     -0.049462                   0.0   \n",
            "4       -0.017626     -0.017626                   0.0   \n",
            "..            ...           ...                   ...   \n",
            "171     -0.049462     -0.049462                   0.0   \n",
            "172     -0.017626     -0.017626                   0.0   \n",
            "173      0.020220      0.020220                   0.0   \n",
            "174     -0.019632     -0.019632                   0.0   \n",
            "175     -0.024363     -0.024363                   0.0   \n",
            "\n",
            "     multiplicative_terms_lower  multiplicative_terms_upper      yhat  \n",
            "0                           0.0                         0.0  2.088427  \n",
            "1                           0.0                         0.0  2.127757  \n",
            "2                           0.0                         0.0  2.227864  \n",
            "3                           0.0                         0.0  2.102505  \n",
            "4                           0.0                         0.0  2.147400  \n",
            "..                          ...                         ...       ...  \n",
            "171                         0.0                         0.0  1.126194  \n",
            "172                         0.0                         0.0  1.147618  \n",
            "173                         0.0                         0.0  1.175052  \n",
            "174                         0.0                         0.0  1.124789  \n",
            "175                         0.0                         0.0  1.109645  \n",
            "\n",
            "[176 rows x 16 columns]\n"
          ]
        }
      ]
    },
    {
      "cell_type": "code",
      "source": [
        "predicted=forecast[len(forecast)-days_in_future:len(forecast)]\n",
        "predicted=predicted['trend']\n",
        "predicted.plot()"
      ],
      "metadata": {
        "colab": {
          "base_uri": "https://localhost:8080/",
          "height": 284
        },
        "id": "MiR4ibmBOPye",
        "outputId": "24b4b819-7eb4-4e46-bdaf-11830f55b29c"
      },
      "execution_count": 6,
      "outputs": [
        {
          "output_type": "execute_result",
          "data": {
            "text/plain": [
              "<matplotlib.axes._subplots.AxesSubplot at 0x7fa30b3c70a0>"
            ]
          },
          "metadata": {},
          "execution_count": 6
        },
        {
          "output_type": "display_data",
          "data": {
            "text/plain": [
              "<Figure size 432x288 with 1 Axes>"
            ],
            "image/png": "[encoded data removed]"
          },
          "metadata": {
            "needs_background": "light"
          }
        }
      ]
    },
    {
      "cell_type": "code",
      "source": [
        "!pip install mxnet gluonts ujson\n",
        "from gluonts.dataset.common import ListDataset\n",
        "from gluonts.dataset.util import to_pandas\n",
        "from gluonts.mx import DeepAREstimator\n",
        "from gluonts.mx.distribution import ZeroInflatedNegativeBinomialOutput, StudentTOutput #likelihood\n",
        "from gluonts.mx.trainer.learning_rate_scheduler import LearningRateReduction\n",
        "from gluonts.mx.trainer import Trainer\n",
        "from gluonts.mx.trainer.model_averaging import ModelAveraging, SelectNBestSoftmax, SelectNBestMean\n",
        "import statistics\n",
        "from gluonts.evaluation import Evaluator\n",
        "from gluonts.evaluation.backtest import make_evaluation_predictions\n",
        "import numpy as np\n",
        "\n",
        "df_glutons = df.copy()\n",
        "df_glutons.month = pd.to_datetime(df_glutons['date'])\n",
        "df_glutons.set_index(\"date\",drop=True, inplace=True)\n",
        "print(df_glutons)\n",
        "\n",
        "training_data = ListDataset(\n",
        "    [{\"start\": df_glutons.index[0], \"target\": df_glutons.sentiment[:\"5/5/2022\"], }],\n",
        "    freq = \"D\"\n",
        ")\n",
        "test_data = ListDataset(\n",
        "    [{\"start\": df_glutons.index[27], \"target\": df_glutons.sentiment[\"5/5/2022\":\"5/10/2022\"], }],\n",
        "    freq = \"D\"\n",
        ")\n",
        "\n",
        "callbacks = [\n",
        "    LearningRateReduction(objective=\"min\",\n",
        "                          patience=10,\n",
        "                          base_lr=1e-3,\n",
        "                          decay_factor=0.5,\n",
        "                          ),\n",
        "    ModelAveraging(avg_strategy=SelectNBestMean(num_models=2))\n",
        "]\n",
        "\n",
        "estimator = DeepAREstimator(\n",
        "    freq=\"D\",\n",
        "    prediction_length=24,\n",
        "    context_length=24,\n",
        "    num_layers = 2,\n",
        "    num_cells = 40,\n",
        "    distr_output=StudentTOutput(),\n",
        "    dropout_rate=0.01,\n",
        "    trainer=Trainer(#ctx = mx.context.gpu(),\n",
        "                    epochs=50,\n",
        "                    callbacks=callbacks))\n",
        "\n",
        "predictor = estimator.train(training_data)\n",
        "predictions = predictor.predict(test_data,100)\n",
        "predictions = list(predictions)[0]\n",
        "#print(predictions.samples)\n",
        "final_results=[]\n",
        "for arr in predictions.samples:\n",
        "  final_results.append(np.median(arr))\n",
        "\n",
        "print(final_results)"
      ],
      "metadata": {
        "colab": {
          "base_uri": "https://localhost:8080/"
        },
        "id": "-ZbbhYBpTraI",
        "outputId": "f0c882ba-6bc8-452b-e587-d416cbda74fd"
      },
      "execution_count": 22,
      "outputs": [
        {
          "output_type": "stream",
          "name": "stdout",
          "text": [
            "Looking in indexes: https://pypi.org/simple, https://us-python.pkg.dev/colab-wheels/public/simple/\n",
            "Requirement already satisfied: mxnet in /usr/local/lib/python3.8/dist-packages (1.9.1)\n",
            "Requirement already satisfied: gluonts in /usr/local/lib/python3.8/dist-packages (0.12.0)\n",
            "Requirement already satisfied: ujson in /usr/local/lib/python3.8/dist-packages (5.7.0)\n",
            "Requirement already satisfied: graphviz<0.9.0,>=0.8.1 in /usr/local/lib/python3.8/dist-packages (from mxnet) (0.8.4)\n",
            "Requirement already satisfied: numpy<2.0.0,>1.16.0 in /usr/local/lib/python3.8/dist-packages (from mxnet) (1.21.6)\n",
            "Requirement already satisfied: requests<3,>=2.20.0 in /usr/local/lib/python3.8/dist-packages (from mxnet) (2.25.1)\n",
            "Requirement already satisfied: tqdm~=4.23 in /usr/local/lib/python3.8/dist-packages (from gluonts) (4.64.1)\n",
            "Requirement already satisfied: pandas~=1.0 in /usr/local/lib/python3.8/dist-packages (from gluonts) (1.3.5)\n",
            "Requirement already satisfied: dataclasses in /usr/local/lib/python3.8/dist-packages (from gluonts) (0.6)\n",
            "Requirement already satisfied: pydantic~=1.7 in /usr/local/lib/python3.8/dist-packages (from gluonts) (1.10.4)\n",
            "Requirement already satisfied: toolz~=0.10 in /usr/local/lib/python3.8/dist-packages (from gluonts) (0.12.0)\n",
            "Requirement already satisfied: typing-extensions~=4.0 in /usr/local/lib/python3.8/dist-packages (from gluonts) (4.4.0)\n",
            "Requirement already satisfied: python-dateutil>=2.7.3 in /usr/local/lib/python3.8/dist-packages (from pandas~=1.0->gluonts) (2.8.2)\n",
            "Requirement already satisfied: pytz>=2017.3 in /usr/local/lib/python3.8/dist-packages (from pandas~=1.0->gluonts) (2022.7.1)\n",
            "Requirement already satisfied: certifi>=2017.4.17 in /usr/local/lib/python3.8/dist-packages (from requests<3,>=2.20.0->mxnet) (2022.12.7)\n",
            "Requirement already satisfied: idna<3,>=2.5 in /usr/local/lib/python3.8/dist-packages (from requests<3,>=2.20.0->mxnet) (2.10)\n",
            "Requirement already satisfied: urllib3<1.27,>=1.21.1 in /usr/local/lib/python3.8/dist-packages (from requests<3,>=2.20.0->mxnet) (1.24.3)\n",
            "Requirement already satisfied: chardet<5,>=3.0.2 in /usr/local/lib/python3.8/dist-packages (from requests<3,>=2.20.0->mxnet) (4.0.0)\n",
            "Requirement already satisfied: six>=1.5 in /usr/local/lib/python3.8/dist-packages (from python-dateutil>=2.7.3->pandas~=1.0->gluonts) (1.15.0)\n"
          ]
        },
        {
          "output_type": "stream",
          "name": "stderr",
          "text": [
            "<ipython-input-22-c79db0bd5fa3>:15: UserWarning: Pandas doesn't allow columns to be created via a new attribute name - see https://pandas.pydata.org/pandas-docs/stable/indexing.html#attribute-access\n",
            "  df_glutons.month = pd.to_datetime(df_glutons['date'])\n"
          ]
        },
        {
          "output_type": "stream",
          "name": "stdout",
          "text": [
            "                                                       tweet  sentiment\n",
            "date                                                                   \n",
            "2/24/2022  UN Security Council to hold emergency session ...  -0.152493\n",
            "2/24/2022  At 4:30 Kyiv time. Most urgent after years  ht...   1.326654\n",
            "2/24/2022  Rare meeting of UNSC the same day(NY time) whe...  -0.862471\n",
            "2/24/2022  Two Turkish Air Force Airbus A400M entered Ukr...   3.048466\n",
            "2/24/2022  Another cyber attack targeting the website of ...   0.615685\n",
            "...                                                      ...        ...\n",
            "5/10/2022  Video of the aftermath of an artillery strike ...   2.084022\n",
            "5/10/2022  Video from Odesa after todays strikes. 4/  ht...  -0.118575\n",
            "5/10/2022  Video of artillery strikes on Russia positions...   4.150844\n",
            "5/10/2022  Video of a low-flying Ukrainian Mi-24 helicopt...   1.616679\n",
            "5/10/2022  Video of a Ukrainian soldier firing an NLAW at...  -0.938575\n",
            "\n",
            "[6410 rows x 2 columns]\n"
          ]
        },
        {
          "output_type": "stream",
          "name": "stderr",
          "text": [
            "100%|██████████| 50/50 [00:08<00:00,  5.82it/s, epoch=1/50, avg_epoch_loss=2.26]\n",
            "100%|██████████| 50/50 [00:08<00:00,  5.99it/s, epoch=2/50, avg_epoch_loss=2.16]\n",
            "100%|██████████| 50/50 [00:08<00:00,  6.06it/s, epoch=3/50, avg_epoch_loss=2.14]\n",
            "100%|██████████| 50/50 [00:08<00:00,  6.00it/s, epoch=4/50, avg_epoch_loss=2.13]\n",
            "100%|██████████| 50/50 [00:08<00:00,  5.92it/s, epoch=5/50, avg_epoch_loss=2.12]\n",
            "100%|██████████| 50/50 [00:08<00:00,  5.93it/s, epoch=6/50, avg_epoch_loss=2.12]\n",
            "100%|██████████| 50/50 [00:08<00:00,  5.91it/s, epoch=7/50, avg_epoch_loss=2.11]\n",
            "100%|██████████| 50/50 [00:08<00:00,  5.98it/s, epoch=8/50, avg_epoch_loss=2.1]\n",
            "100%|██████████| 50/50 [00:08<00:00,  5.94it/s, epoch=9/50, avg_epoch_loss=2.1]\n",
            "100%|██████████| 50/50 [00:08<00:00,  5.99it/s, epoch=10/50, avg_epoch_loss=2.09]\n",
            "100%|██████████| 50/50 [00:08<00:00,  5.83it/s, epoch=11/50, avg_epoch_loss=2.08]\n",
            "100%|██████████| 50/50 [00:08<00:00,  6.02it/s, epoch=12/50, avg_epoch_loss=2.06]\n",
            "100%|██████████| 50/50 [00:08<00:00,  6.05it/s, epoch=13/50, avg_epoch_loss=2.05]\n",
            "100%|██████████| 50/50 [00:08<00:00,  5.79it/s, epoch=14/50, avg_epoch_loss=2.02]\n",
            "100%|██████████| 50/50 [00:08<00:00,  5.95it/s, epoch=15/50, avg_epoch_loss=2]\n",
            "100%|██████████| 50/50 [00:08<00:00,  5.94it/s, epoch=16/50, avg_epoch_loss=1.98]\n",
            "100%|██████████| 50/50 [00:08<00:00,  5.99it/s, epoch=17/50, avg_epoch_loss=1.95]\n",
            "100%|██████████| 50/50 [00:08<00:00,  5.80it/s, epoch=18/50, avg_epoch_loss=1.93]\n",
            "100%|██████████| 50/50 [00:08<00:00,  5.98it/s, epoch=19/50, avg_epoch_loss=1.9]\n",
            "100%|██████████| 50/50 [00:08<00:00,  5.90it/s, epoch=20/50, avg_epoch_loss=1.86]\n",
            "100%|██████████| 50/50 [00:08<00:00,  5.99it/s, epoch=21/50, avg_epoch_loss=1.84]\n",
            "100%|██████████| 50/50 [00:08<00:00,  6.08it/s, epoch=22/50, avg_epoch_loss=1.8]\n",
            "100%|██████████| 50/50 [00:08<00:00,  5.97it/s, epoch=23/50, avg_epoch_loss=1.78]\n",
            "100%|██████████| 50/50 [00:08<00:00,  5.88it/s, epoch=24/50, avg_epoch_loss=1.76]\n",
            "100%|██████████| 50/50 [00:08<00:00,  5.92it/s, epoch=25/50, avg_epoch_loss=1.72]\n",
            "100%|██████████| 50/50 [00:08<00:00,  6.10it/s, epoch=26/50, avg_epoch_loss=1.71]\n",
            "100%|██████████| 50/50 [00:08<00:00,  5.95it/s, epoch=27/50, avg_epoch_loss=1.68]\n",
            "100%|██████████| 50/50 [00:08<00:00,  6.05it/s, epoch=28/50, avg_epoch_loss=1.65]\n",
            "100%|██████████| 50/50 [00:08<00:00,  5.95it/s, epoch=29/50, avg_epoch_loss=1.63]\n",
            "100%|██████████| 50/50 [00:08<00:00,  5.99it/s, epoch=30/50, avg_epoch_loss=1.61]\n",
            "100%|██████████| 50/50 [00:08<00:00,  6.04it/s, epoch=31/50, avg_epoch_loss=1.6]\n",
            "100%|██████████| 50/50 [00:08<00:00,  5.91it/s, epoch=32/50, avg_epoch_loss=1.57]\n",
            "100%|██████████| 50/50 [00:08<00:00,  6.16it/s, epoch=33/50, avg_epoch_loss=1.55]\n",
            "100%|██████████| 50/50 [00:08<00:00,  5.87it/s, epoch=34/50, avg_epoch_loss=1.53]\n",
            "100%|██████████| 50/50 [00:08<00:00,  5.92it/s, epoch=35/50, avg_epoch_loss=1.51]\n",
            "100%|██████████| 50/50 [00:08<00:00,  6.13it/s, epoch=36/50, avg_epoch_loss=1.5]\n",
            "100%|██████████| 50/50 [00:08<00:00,  6.07it/s, epoch=37/50, avg_epoch_loss=1.49]\n",
            "100%|██████████| 50/50 [00:08<00:00,  5.95it/s, epoch=38/50, avg_epoch_loss=1.47]\n",
            "100%|██████████| 50/50 [00:08<00:00,  6.10it/s, epoch=39/50, avg_epoch_loss=1.46]\n",
            "100%|██████████| 50/50 [00:08<00:00,  5.89it/s, epoch=40/50, avg_epoch_loss=1.44]\n",
            "100%|██████████| 50/50 [00:08<00:00,  5.97it/s, epoch=41/50, avg_epoch_loss=1.42]\n",
            "100%|██████████| 50/50 [00:08<00:00,  6.05it/s, epoch=42/50, avg_epoch_loss=1.41]\n",
            "100%|██████████| 50/50 [00:08<00:00,  5.89it/s, epoch=43/50, avg_epoch_loss=1.4]\n",
            "100%|██████████| 50/50 [00:08<00:00,  6.12it/s, epoch=44/50, avg_epoch_loss=1.4]\n",
            "100%|██████████| 50/50 [00:08<00:00,  6.01it/s, epoch=45/50, avg_epoch_loss=1.37]\n",
            "100%|██████████| 50/50 [00:08<00:00,  6.02it/s, epoch=46/50, avg_epoch_loss=1.38]\n",
            "100%|██████████| 50/50 [00:08<00:00,  5.96it/s, epoch=47/50, avg_epoch_loss=1.37]\n",
            "100%|██████████| 50/50 [00:08<00:00,  6.07it/s, epoch=48/50, avg_epoch_loss=1.35]\n",
            "100%|██████████| 50/50 [00:08<00:00,  5.87it/s, epoch=49/50, avg_epoch_loss=1.34]\n",
            "100%|██████████| 50/50 [00:08<00:00,  5.86it/s, epoch=50/50, avg_epoch_loss=1.33]\n"
          ]
        },
        {
          "output_type": "stream",
          "name": "stdout",
          "text": [
            "[1.2882364, 1.3980236, 1.8579043, 1.3781909, 1.54565, 1.1331924, 1.6106066, 1.470711, 1.4173747, 1.0127709, 1.2832025, 1.7622885, 1.1590569, 1.325552, 1.3583301, 1.7162126, 1.2793405, 1.2254456, 1.8762401, 1.2860513, 1.6542845, 1.3555624, 1.4969423, 1.862438, 1.7913499, 1.9497607, 1.4136554, 1.1219226, 1.1344783, 1.4752667, 1.478895, 1.7251911, 1.6425413, 1.2564797, 1.4536834, 0.9647418, 1.4804679, 2.2017136, 1.2947819, 1.741877, 0.98158014, 1.2982285, 1.1090372, 1.393713, 1.1648464, 1.2505983, 1.631433, 1.4507518, 1.5153625, 1.7314873, 1.6836363, 2.2498455, 2.0787754, 1.4000328, 1.8228152, 1.0881703, 1.664401, 1.4681591, 1.5793324, 1.2511251, 1.8185294, 1.6786997, 1.3539737, 1.3053331, 1.9354439, 1.5397338, 1.7731056, 1.6439312, 1.6309552, 1.9014858, 1.6647874, 1.6702118, 1.4509763, 1.8141348, 1.7084081, 1.6898762, 1.1110117, 1.4969823, 1.6938245, 1.5327604, 1.1131682, 1.0025511, 1.7426795, 1.5015808, 1.503611, 1.7701521, 1.2682958, 1.3156579, 1.5290399, 1.4917904, 1.2378666, 2.100675, 1.3820591, 1.1251631, 1.2947514, 1.3840358, 1.7257855, 1.5453382, 1.6834702, 1.1809969]\n"
          ]
        }
      ]
    },
    {
      "cell_type": "code",
      "source": [
        "from array import array\n",
        "f_res=np.array(final_results)\n",
        "dff = pd.DataFrame(final_results)\n",
        "dff.plot()"
      ],
      "metadata": {
        "colab": {
          "base_uri": "https://localhost:8080/",
          "height": 283
        },
        "id": "Yh2CE-bajbTC",
        "outputId": "1700df01-2991-4b9b-a7a8-38a54bcafe0f"
      },
      "execution_count": 29,
      "outputs": [
        {
          "output_type": "execute_result",
          "data": {
            "text/plain": [
              "<matplotlib.axes._subplots.AxesSubplot at 0x7fa2d11301c0>"
            ]
          },
          "metadata": {},
          "execution_count": 29
        },
        {
          "output_type": "display_data",
          "data": {
            "text/plain": [
              "<Figure size 432x288 with 1 Axes>"
            ],
            "image/png": "[encoded data removed]"
          },
          "metadata": {
            "needs_background": "light"
          }
        }
      ]
    }
  ]
}