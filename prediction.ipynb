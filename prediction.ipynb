{
  "nbformat": 4,
  "nbformat_minor": 0,
  "metadata": {
    "colab": {
      "provenance": []
    },
    "kernelspec": {
      "name": "python3",
      "display_name": "Python 3"
    },
    "language_info": {
      "name": "python"
    }
  },
  "cells": [
    {
      "cell_type": "code",
      "execution_count": 1,
      "metadata": {
        "colab": {
          "base_uri": "https://localhost:8080/"
        },
        "id": "lV-k1P8FECFo",
        "outputId": "33f30949-e7ec-41d0-934d-c819b2647b55"
      },
      "outputs": [
        {
          "output_type": "stream",
          "name": "stdout",
          "text": [
            "Looking in indexes: https://pypi.org/simple, https://us-python.pkg.dev/colab-wheels/public/simple/\n",
            "Requirement already satisfied: prophet in /usr/local/lib/python3.8/dist-packages (1.1.2)\n",
            "Requirement already satisfied: numpy>=1.15.4 in /usr/local/lib/python3.8/dist-packages (from prophet) (1.21.6)\n",
            "Requirement already satisfied: LunarCalendar>=0.0.9 in /usr/local/lib/python3.8/dist-packages (from prophet) (0.0.9)\n",
            "Requirement already satisfied: holidays>=0.14.2 in /usr/local/lib/python3.8/dist-packages (from prophet) (0.19)\n",
            "Requirement already satisfied: tqdm>=4.36.1 in /usr/local/lib/python3.8/dist-packages (from prophet) (4.64.1)\n",
            "Requirement already satisfied: convertdate>=2.1.2 in /usr/local/lib/python3.8/dist-packages (from prophet) (2.4.0)\n",
            "Requirement already satisfied: matplotlib>=2.0.0 in /usr/local/lib/python3.8/dist-packages (from prophet) (3.2.2)\n",
            "Requirement already satisfied: python-dateutil>=2.8.0 in /usr/local/lib/python3.8/dist-packages (from prophet) (2.8.2)\n",
            "Requirement already satisfied: cmdstanpy>=1.0.4 in /usr/local/lib/python3.8/dist-packages (from prophet) (1.1.0)\n",
            "Requirement already satisfied: pandas>=1.0.4 in /usr/local/lib/python3.8/dist-packages (from prophet) (1.3.5)\n",
            "Requirement already satisfied: pymeeus<=1,>=0.3.13 in /usr/local/lib/python3.8/dist-packages (from convertdate>=2.1.2->prophet) (0.5.12)\n",
            "Requirement already satisfied: korean-lunar-calendar in /usr/local/lib/python3.8/dist-packages (from holidays>=0.14.2->prophet) (0.3.1)\n",
            "Requirement already satisfied: hijri-converter in /usr/local/lib/python3.8/dist-packages (from holidays>=0.14.2->prophet) (2.2.4)\n",
            "Requirement already satisfied: pytz in /usr/local/lib/python3.8/dist-packages (from LunarCalendar>=0.0.9->prophet) (2022.7.1)\n",
            "Requirement already satisfied: ephem>=3.7.5.3 in /usr/local/lib/python3.8/dist-packages (from LunarCalendar>=0.0.9->prophet) (4.1.4)\n",
            "Requirement already satisfied: kiwisolver>=1.0.1 in /usr/local/lib/python3.8/dist-packages (from matplotlib>=2.0.0->prophet) (1.4.4)\n",
            "Requirement already satisfied: cycler>=0.10 in /usr/local/lib/python3.8/dist-packages (from matplotlib>=2.0.0->prophet) (0.11.0)\n",
            "Requirement already satisfied: pyparsing!=2.0.4,!=2.1.2,!=2.1.6,>=2.0.1 in /usr/local/lib/python3.8/dist-packages (from matplotlib>=2.0.0->prophet) (3.0.9)\n",
            "Requirement already satisfied: six>=1.5 in /usr/local/lib/python3.8/dist-packages (from python-dateutil>=2.8.0->prophet) (1.15.0)\n"
          ]
        }
      ],
      "source": [
        "!pip install prophet\n"
      ]
    },
    {
      "cell_type": "code",
      "source": [
        "import csv\n",
        "import pandas as pd\n",
        "from prophet import Prophet\n",
        "import os\n",
        "import glob"
      ],
      "metadata": {
        "id": "cQkChPFJEWj_"
      },
      "execution_count": 2,
      "outputs": []
    },
    {
      "cell_type": "code",
      "source": [
        "cwd = os.path.abspath('')\n",
        "#list all the files from the directory\n",
        "file_list = os.listdir(cwd)\n",
        "csv_files = glob.glob('*.{}'.format('csv'))\n",
        "df = pd.DataFrame()\n",
        "for file in csv_files:\n",
        "            df_temp = pd.read_csv(file)\n",
        "            df = df.append(df_temp, ignore_index=True)\n",
        "print(df)"
      ],
      "metadata": {
        "colab": {
          "base_uri": "https://localhost:8080/"
        },
        "id": "5i1Yz0Z3EkqC",
        "outputId": "391b15c9-eaf8-416a-a167-608a192f2f25"
      },
      "execution_count": 3,
      "outputs": [
        {
          "output_type": "stream",
          "name": "stdout",
          "text": [
            "       Unnamed: 0            id                             created_at  \\\n",
            "0               5  1.496830e+18  2022-02-24 15:10:39 GTB Standard Time   \n",
            "1               7  1.496840e+18  2022-02-24 15:18:52 GTB Standard Time   \n",
            "2               9  1.496840e+18  2022-02-24 15:20:30 GTB Standard Time   \n",
            "3              10  1.496840e+18  2022-02-24 15:20:35 GTB Standard Time   \n",
            "4              11  1.496840e+18  2022-02-24 15:22:31 GTB Standard Time   \n",
            "...           ...           ...                                    ...   \n",
            "32198       16722  1.523800e+18  2022-05-10 02:13:02 GTB Daylight Time   \n",
            "32199       16723  1.523810e+18  2022-05-10 02:20:42 GTB Daylight Time   \n",
            "32200       16724  1.523810e+18  2022-05-10 02:20:42 GTB Daylight Time   \n",
            "32201       16725  1.523810e+18  2022-05-10 02:49:55 GTB Daylight Time   \n",
            "32202       16726  1.523810e+18  2022-05-10 02:49:55 GTB Daylight Time   \n",
            "\n",
            "            date      time         username                  name  \\\n",
            "0      2/24/2022  15:10:39      levi_godman                  Levi   \n",
            "1      2/24/2022  15:18:52     colonelhomsi           Geo_monitor   \n",
            "2      2/24/2022  15:20:30     colonelhomsi           Geo_monitor   \n",
            "3      2/24/2022  15:20:35      levi_godman                  Levi   \n",
            "4      2/24/2022  15:22:31     colonelhomsi           Geo_monitor   \n",
            "...          ...       ...              ...                   ...   \n",
            "32198  5/10/2022   2:13:02          ralee85               Rob Lee   \n",
            "32199  5/10/2022   2:20:42  kyivindependent  The Kyiv Independent   \n",
            "32200  5/10/2022   2:20:42  kyivindependent  The Kyiv Independent   \n",
            "32201  5/10/2022   2:49:55  kyivindependent  The Kyiv Independent   \n",
            "32202  5/10/2022   2:49:55  kyivindependent  The Kyiv Independent   \n",
            "\n",
            "                                                   tweet language mentions  \\\n",
            "0                              @ASBMilitary Good luck ??       en       []   \n",
            "1      Ukrainian border guards crossed into Russia in...       en       []   \n",
            "2      Ukrainian air defense systems were suppressed ...       en       []   \n",
            "3      @theragex Guys please tripple check videos bef...       en       []   \n",
            "4      Peskov: special operation in Ukraine dictated ...       en       []   \n",
            "...                                                  ...      ...      ...   \n",
            "32198  Video of a Ukrainian soldier firing an NLAW at...       en       []   \n",
            "32199  The proposal exceeds the $33 billion that U.S....       en       []   \n",
            "32200  ?? Reuters: US Congress plans almost $40 billi...       en       []   \n",
            "32201  According to the Ukrainian government and the ...       en       []   \n",
            "32202  ?? Politico: European Commission discusses joi...       en       []   \n",
            "\n",
            "       ... replies_count  retweets_count  likes_count  hashtags  \\\n",
            "0      ...             0               0            4        []   \n",
            "1      ...             4              23           50        []   \n",
            "2      ...             0              21           51        []   \n",
            "3      ...             0               0            3        []   \n",
            "4      ...             0               9           34        []   \n",
            "...    ...           ...             ...          ...       ...   \n",
            "32198  ...            43             249         2315        []   \n",
            "32199  ...            32             316         2610        []   \n",
            "32200  ...           180            1365         9881        []   \n",
            "32201  ...            27             339         2269        []   \n",
            "32202  ...            47             608         4181        []   \n",
            "\n",
            "                                                    link retweet  video  \\\n",
            "0      https://twitter.com/Levi_godman/status/1496834...   False      0   \n",
            "1      https://twitter.com/colonelhomsi/status/149683...   False      0   \n",
            "2      https://twitter.com/colonelhomsi/status/149683...   False      0   \n",
            "3      https://twitter.com/Levi_godman/status/1496837...   False      0   \n",
            "4      https://twitter.com/colonelhomsi/status/149683...   False      0   \n",
            "...                                                  ...     ...    ...   \n",
            "32198  https://twitter.com/RALee85/status/15238032586...   False      1   \n",
            "32199  https://twitter.com/KyivIndependent/status/152...   False      0   \n",
            "32200  https://twitter.com/KyivIndependent/status/152...   False      0   \n",
            "32201  https://twitter.com/KyivIndependent/status/152...   False      0   \n",
            "32202  https://twitter.com/KyivIndependent/status/152...   False      0   \n",
            "\n",
            "                                                reply_to views_count  \\\n",
            "0      [{'screen_name': 'ASBMilitary', 'name': 'ASB N...         100   \n",
            "1                                                     []        1250   \n",
            "2                                                     []        1275   \n",
            "3      [{'screen_name': 'theragex', 'name': 'The RAGE...          75   \n",
            "4                                                     []         850   \n",
            "...                                                  ...         ...   \n",
            "32198                                                 []       57875   \n",
            "32199                                                 []       65250   \n",
            "32200                                                 []      247025   \n",
            "32201                                                 []       56725   \n",
            "32202                                                 []      104525   \n",
            "\n",
            "       sentiment  \n",
            "0       2.312161  \n",
            "1       0.661490  \n",
            "2       1.035298  \n",
            "3       2.045095  \n",
            "4       1.953761  \n",
            "...          ...  \n",
            "32198   2.063615  \n",
            "32199   1.046635  \n",
            "32200   2.674789  \n",
            "32201   2.725197  \n",
            "32202   2.073564  \n",
            "\n",
            "[32203 rows x 21 columns]\n"
          ]
        }
      ]
    },
    {
      "cell_type": "code",
      "source": [
        "columns = ['date','tweet','sentiment','time']\n",
        "df = df.reindex(columns=columns)\n",
        "print(df)"
      ],
      "metadata": {
        "colab": {
          "base_uri": "https://localhost:8080/"
        },
        "id": "cwkkT27mEsr4",
        "outputId": "6e1363a8-2c77-4e1f-dd57-d18aff4b8dac"
      },
      "execution_count": 4,
      "outputs": [
        {
          "output_type": "stream",
          "name": "stdout",
          "text": [
            "            date                                              tweet  \\\n",
            "0      2/24/2022                          @ASBMilitary Good luck ??   \n",
            "1      2/24/2022  Ukrainian border guards crossed into Russia in...   \n",
            "2      2/24/2022  Ukrainian air defense systems were suppressed ...   \n",
            "3      2/24/2022  @theragex Guys please tripple check videos bef...   \n",
            "4      2/24/2022  Peskov: special operation in Ukraine dictated ...   \n",
            "...          ...                                                ...   \n",
            "32198  5/10/2022  Video of a Ukrainian soldier firing an NLAW at...   \n",
            "32199  5/10/2022  The proposal exceeds the $33 billion that U.S....   \n",
            "32200  5/10/2022  ?? Reuters: US Congress plans almost $40 billi...   \n",
            "32201  5/10/2022  According to the Ukrainian government and the ...   \n",
            "32202  5/10/2022  ?? Politico: European Commission discusses joi...   \n",
            "\n",
            "       sentiment      time  \n",
            "0       2.312161  15:10:39  \n",
            "1       0.661490  15:18:52  \n",
            "2       1.035298  15:20:30  \n",
            "3       2.045095  15:20:35  \n",
            "4       1.953761  15:22:31  \n",
            "...          ...       ...  \n",
            "32198   2.063615   2:13:02  \n",
            "32199   1.046635   2:20:42  \n",
            "32200   2.674789   2:20:42  \n",
            "32201   2.725197   2:49:55  \n",
            "32202   2.073564   2:49:55  \n",
            "\n",
            "[32203 rows x 4 columns]\n"
          ]
        }
      ]
    },
    {
      "cell_type": "code",
      "source": [
        "df_pro=pd.DataFrame()\n",
        "df_pro['ds'] = df['date']\n",
        "df_pro['y'] = df['sentiment'].values\n",
        "m=Prophet()\n",
        "model=m.fit(df_pro)\n",
        "days_in_future=100 #how many days in future to predict\n",
        "future=m.make_future_dataframe(periods=days_in_future, freq = 'D',include_history = 'false') \n",
        "forecast=m.predict(future)\n",
        "print(forecast)"
      ],
      "metadata": {
        "colab": {
          "base_uri": "https://localhost:8080/"
        },
        "id": "DZuNN5RWEvkx",
        "outputId": "d35d70b0-2bd0-478a-9999-6b03495624de"
      },
      "execution_count": 5,
      "outputs": [
        {
          "output_type": "stream",
          "name": "stderr",
          "text": [
            "INFO:prophet:Disabling yearly seasonality. Run prophet with yearly_seasonality=True to override this.\n",
            "INFO:prophet:Disabling daily seasonality. Run prophet with daily_seasonality=True to override this.\n",
            "DEBUG:cmdstanpy:input tempfile: /tmp/tmpqaq1v374/w1b57wgs.json\n",
            "DEBUG:cmdstanpy:input tempfile: /tmp/tmpqaq1v374/p5s8iyno.json\n",
            "DEBUG:cmdstanpy:idx 0\n",
            "DEBUG:cmdstanpy:running CmdStan, num_threads: None\n",
            "DEBUG:cmdstanpy:CmdStan args: ['/usr/local/lib/python3.8/dist-packages/prophet/stan_model/prophet_model.bin', 'random', 'seed=23808', 'data', 'file=/tmp/tmpqaq1v374/w1b57wgs.json', 'init=/tmp/tmpqaq1v374/p5s8iyno.json', 'output', 'file=/tmp/tmpqaq1v374/prophet_modelcoibc81q/prophet_model-20230205173502.csv', 'method=optimize', 'algorithm=lbfgs', 'iter=10000']\n",
            "17:35:02 - cmdstanpy - INFO - Chain [1] start processing\n",
            "INFO:cmdstanpy:Chain [1] start processing\n",
            "17:35:06 - cmdstanpy - INFO - Chain [1] done processing\n",
            "INFO:cmdstanpy:Chain [1] done processing\n"
          ]
        },
        {
          "output_type": "stream",
          "name": "stdout",
          "text": [
            "            ds     trend  yhat_lower  yhat_upper  trend_lower  trend_upper  \\\n",
            "0   2022-02-24 -0.213665   -2.926014    2.604054    -0.213665    -0.213665   \n",
            "1   2022-02-25 -0.211192   -2.845891    2.419368    -0.211192    -0.211192   \n",
            "2   2022-02-26 -0.208718   -2.937935    2.738123    -0.208718    -0.208718   \n",
            "3   2022-02-27 -0.206245   -3.045830    2.435459    -0.206245    -0.206245   \n",
            "4   2022-02-28 -0.203772   -3.112456    2.830730    -0.203772    -0.203772   \n",
            "..         ...       ...         ...         ...          ...          ...   \n",
            "171 2022-08-14  0.353500   -2.673110    3.086599    -0.233130     0.909139   \n",
            "172 2022-08-15  0.358999   -2.411115    3.303611    -0.237033     0.920523   \n",
            "173 2022-08-16  0.364498   -2.482963    2.984567    -0.239396     0.928983   \n",
            "174 2022-08-17  0.369997   -2.478856    3.433480    -0.240879     0.939406   \n",
            "175 2022-08-18  0.375496   -2.467201    3.265792    -0.244467     0.955399   \n",
            "\n",
            "     additive_terms  additive_terms_lower  additive_terms_upper    weekly  \\\n",
            "0          0.033577              0.033577              0.033577  0.033577   \n",
            "1         -0.011027             -0.011027             -0.011027 -0.011027   \n",
            "2         -0.010639             -0.010639             -0.010639 -0.010639   \n",
            "3         -0.049646             -0.049646             -0.049646 -0.049646   \n",
            "4         -0.011456             -0.011456             -0.011456 -0.011456   \n",
            "..              ...                   ...                   ...       ...   \n",
            "171       -0.049646             -0.049646             -0.049646 -0.049646   \n",
            "172       -0.011456             -0.011456             -0.011456 -0.011456   \n",
            "173       -0.010001             -0.010001             -0.010001 -0.010001   \n",
            "174        0.059191              0.059191              0.059191  0.059191   \n",
            "175        0.033577              0.033577              0.033577  0.033577   \n",
            "\n",
            "     weekly_lower  weekly_upper  multiplicative_terms  \\\n",
            "0        0.033577      0.033577                   0.0   \n",
            "1       -0.011027     -0.011027                   0.0   \n",
            "2       -0.010639     -0.010639                   0.0   \n",
            "3       -0.049646     -0.049646                   0.0   \n",
            "4       -0.011456     -0.011456                   0.0   \n",
            "..            ...           ...                   ...   \n",
            "171     -0.049646     -0.049646                   0.0   \n",
            "172     -0.011456     -0.011456                   0.0   \n",
            "173     -0.010001     -0.010001                   0.0   \n",
            "174      0.059191      0.059191                   0.0   \n",
            "175      0.033577      0.033577                   0.0   \n",
            "\n",
            "     multiplicative_terms_lower  multiplicative_terms_upper      yhat  \n",
            "0                           0.0                         0.0 -0.180088  \n",
            "1                           0.0                         0.0 -0.222218  \n",
            "2                           0.0                         0.0 -0.219357  \n",
            "3                           0.0                         0.0 -0.255891  \n",
            "4                           0.0                         0.0 -0.215228  \n",
            "..                          ...                         ...       ...  \n",
            "171                         0.0                         0.0  0.303854  \n",
            "172                         0.0                         0.0  0.347544  \n",
            "173                         0.0                         0.0  0.354497  \n",
            "174                         0.0                         0.0  0.429188  \n",
            "175                         0.0                         0.0  0.409072  \n",
            "\n",
            "[176 rows x 16 columns]\n"
          ]
        }
      ]
    },
    {
      "cell_type": "code",
      "source": [
        "predicted=forecast[len(forecast)-days_in_future:len(forecast)]\n",
        "predicted=predicted['trend']\n",
        "predicted.plot()"
      ],
      "metadata": {
        "colab": {
          "base_uri": "https://localhost:8080/",
          "height": 286
        },
        "id": "MiR4ibmBOPye",
        "outputId": "cf294107-a671-445e-a726-2fea1e878314"
      },
      "execution_count": 6,
      "outputs": [
        {
          "output_type": "execute_result",
          "data": {
            "text/plain": [
              "<matplotlib.axes._subplots.AxesSubplot at 0x7f3f0bc56820>"
            ]
          },
          "metadata": {},
          "execution_count": 6
        },
        {
          "output_type": "display_data",
          "data": {
            "text/plain": [
              "<Figure size 432x288 with 1 Axes>"
            ],
            "image/png": "[encoded data removed]"
          },
          "metadata": {
            "needs_background": "light"
          }
        }
      ]
    },
    {
      "cell_type": "code",
      "source": [
        "#!pip install mxnet gluonts ujson\n",
        "from gluonts.dataset.common import ListDataset\n",
        "from gluonts.dataset.util import to_pandas\n",
        "from gluonts.mx import DeepAREstimator\n",
        "from gluonts.mx.distribution import ZeroInflatedNegativeBinomialOutput, StudentTOutput #likelihood\n",
        "from gluonts.mx.trainer.learning_rate_scheduler import LearningRateReduction\n",
        "from gluonts.mx.trainer import Trainer\n",
        "from gluonts.mx.trainer.model_averaging import ModelAveraging, SelectNBestSoftmax, SelectNBestMean\n",
        "import statistics\n",
        "from gluonts.evaluation import Evaluator\n",
        "from gluonts.evaluation.backtest import make_evaluation_predictions\n",
        "import numpy as np\n",
        "\n",
        "df_glutons = df.copy()\n",
        "df_glutons[\"timestamp\"] = df_glutons['date'].astype(str) +\"-\"+ df_glutons['time']\n",
        "df_glutons.time = pd.to_datetime(df_glutons['timestamp'])\n",
        "df_glutons.set_index(\"timestamp\",drop=True, inplace=True)\n",
        "print(df_glutons)\n",
        "\n",
        "training_data = ListDataset(\n",
        "    [{\"start\": df_glutons.index[0], \"target\": df_glutons.sentiment[:\"5/5/2022-0:56:16\"], }],\n",
        "    freq = \"D\"\n",
        ")\n",
        "test_data = ListDataset(\n",
        "    [{\"start\": df_glutons.index[27], \"target\": df_glutons.sentiment[\"5/5/2022-0:56:16\":\"5/10/2022-2:49:55\"], }],\n",
        "    freq = \"D\"\n",
        ")\n",
        "\n",
        "callbacks = [\n",
        "    LearningRateReduction(objective=\"min\",\n",
        "                          patience=10,\n",
        "                          base_lr=1e-3,\n",
        "                          decay_factor=0.5,\n",
        "                          ),\n",
        "    ModelAveraging(avg_strategy=SelectNBestMean(num_models=2))\n",
        "]\n",
        "\n",
        "estimator = DeepAREstimator(\n",
        "    freq=\"D\",\n",
        "    prediction_length=24,\n",
        "    context_length=24,\n",
        "    num_layers = 2,\n",
        "    num_cells = 40,\n",
        "    distr_output=StudentTOutput(),\n",
        "    dropout_rate=0.01,\n",
        "    trainer=Trainer(#ctx = mx.context.gpu(),\n",
        "                    epochs=50,\n",
        "                    callbacks=callbacks))\n",
        "\n",
        "predictor = estimator.train(training_data)\n",
        "predictions = predictor.predict(test_data,100)\n",
        "predictions = list(predictions)[0]\n",
        "#print(predictions.samples)\n",
        "final_results=[]\n",
        "for arr in predictions.samples:\n",
        "  final_results.append(np.median(arr))\n",
        "\n",
        "print(final_results)"
      ],
      "metadata": {
        "colab": {
          "base_uri": "https://localhost:8080/"
        },
        "id": "-ZbbhYBpTraI",
        "outputId": "a83e874b-2f4b-4afd-a1a3-9c2331c929ad"
      },
      "execution_count": 24,
      "outputs": [
        {
          "output_type": "stream",
          "name": "stdout",
          "text": [
            "                         date  \\\n",
            "timestamp                       \n",
            "2/24/2022-15:10:39  2/24/2022   \n",
            "2/24/2022-15:18:52  2/24/2022   \n",
            "2/24/2022-15:20:30  2/24/2022   \n",
            "2/24/2022-15:20:35  2/24/2022   \n",
            "2/24/2022-15:22:31  2/24/2022   \n",
            "...                       ...   \n",
            "5/10/2022-2:13:02   5/10/2022   \n",
            "5/10/2022-2:20:42   5/10/2022   \n",
            "5/10/2022-2:20:42   5/10/2022   \n",
            "5/10/2022-2:49:55   5/10/2022   \n",
            "5/10/2022-2:49:55   5/10/2022   \n",
            "\n",
            "                                                                tweet  \\\n",
            "timestamp                                                               \n",
            "2/24/2022-15:10:39                          @ASBMilitary Good luck ??   \n",
            "2/24/2022-15:18:52  Ukrainian border guards crossed into Russia in...   \n",
            "2/24/2022-15:20:30  Ukrainian air defense systems were suppressed ...   \n",
            "2/24/2022-15:20:35  @theragex Guys please tripple check videos bef...   \n",
            "2/24/2022-15:22:31  Peskov: special operation in Ukraine dictated ...   \n",
            "...                                                               ...   \n",
            "5/10/2022-2:13:02   Video of a Ukrainian soldier firing an NLAW at...   \n",
            "5/10/2022-2:20:42   The proposal exceeds the $33 billion that U.S....   \n",
            "5/10/2022-2:20:42   ?? Reuters: US Congress plans almost $40 billi...   \n",
            "5/10/2022-2:49:55   According to the Ukrainian government and the ...   \n",
            "5/10/2022-2:49:55   ?? Politico: European Commission discusses joi...   \n",
            "\n",
            "                    sentiment                time  \n",
            "timestamp                                          \n",
            "2/24/2022-15:10:39   2.312161 2022-02-24 15:10:39  \n",
            "2/24/2022-15:18:52   0.661490 2022-02-24 15:18:52  \n",
            "2/24/2022-15:20:30   1.035298 2022-02-24 15:20:30  \n",
            "2/24/2022-15:20:35   2.045095 2022-02-24 15:20:35  \n",
            "2/24/2022-15:22:31   1.953761 2022-02-24 15:22:31  \n",
            "...                       ...                 ...  \n",
            "5/10/2022-2:13:02    2.063615 2022-05-10 02:13:02  \n",
            "5/10/2022-2:20:42    1.046635 2022-05-10 02:20:42  \n",
            "5/10/2022-2:20:42    2.674789 2022-05-10 02:20:42  \n",
            "5/10/2022-2:49:55    2.725197 2022-05-10 02:49:55  \n",
            "5/10/2022-2:49:55    2.073564 2022-05-10 02:49:55  \n",
            "\n",
            "[32203 rows x 4 columns]\n"
          ]
        },
        {
          "output_type": "stream",
          "name": "stderr",
          "text": [
            "100%|██████████| 50/50 [00:25<00:00,  1.94it/s, epoch=1/50, avg_epoch_loss=2.21]\n",
            "100%|██████████| 50/50 [00:24<00:00,  2.05it/s, epoch=2/50, avg_epoch_loss=2.19]\n",
            "100%|██████████| 50/50 [00:23<00:00,  2.12it/s, epoch=3/50, avg_epoch_loss=2.18]\n",
            "100%|██████████| 50/50 [00:24<00:00,  2.04it/s, epoch=4/50, avg_epoch_loss=2.17]\n",
            "100%|██████████| 50/50 [00:24<00:00,  2.02it/s, epoch=5/50, avg_epoch_loss=2.16]\n",
            "100%|██████████| 50/50 [00:24<00:00,  2.03it/s, epoch=6/50, avg_epoch_loss=2.17]\n",
            "100%|██████████| 50/50 [00:23<00:00,  2.09it/s, epoch=7/50, avg_epoch_loss=2.16]\n",
            "100%|██████████| 50/50 [00:24<00:00,  2.04it/s, epoch=8/50, avg_epoch_loss=2.15]\n",
            "100%|██████████| 50/50 [00:23<00:00,  2.09it/s, epoch=9/50, avg_epoch_loss=2.15]\n",
            "100%|██████████| 50/50 [00:24<00:00,  2.05it/s, epoch=10/50, avg_epoch_loss=2.14]\n",
            "100%|██████████| 50/50 [00:25<00:00,  1.98it/s, epoch=11/50, avg_epoch_loss=2.14]\n",
            "100%|██████████| 50/50 [00:24<00:00,  2.01it/s, epoch=12/50, avg_epoch_loss=2.13]\n",
            "100%|██████████| 50/50 [00:25<00:00,  1.94it/s, epoch=13/50, avg_epoch_loss=2.13]\n",
            "100%|██████████| 50/50 [00:23<00:00,  2.14it/s, epoch=14/50, avg_epoch_loss=2.13]\n",
            "100%|██████████| 50/50 [00:24<00:00,  2.00it/s, epoch=15/50, avg_epoch_loss=2.12]\n",
            "100%|██████████| 50/50 [00:24<00:00,  2.08it/s, epoch=16/50, avg_epoch_loss=2.11]\n",
            "100%|██████████| 50/50 [00:24<00:00,  2.03it/s, epoch=17/50, avg_epoch_loss=2.11]\n",
            "100%|██████████| 50/50 [00:24<00:00,  2.06it/s, epoch=18/50, avg_epoch_loss=2.11]\n",
            "100%|██████████| 50/50 [00:24<00:00,  2.06it/s, epoch=19/50, avg_epoch_loss=2.09]\n",
            "100%|██████████| 50/50 [00:24<00:00,  2.03it/s, epoch=20/50, avg_epoch_loss=2.08]\n",
            "100%|██████████| 50/50 [00:24<00:00,  2.03it/s, epoch=21/50, avg_epoch_loss=2.09]\n",
            "100%|██████████| 50/50 [00:24<00:00,  2.00it/s, epoch=22/50, avg_epoch_loss=2.08]\n",
            "100%|██████████| 50/50 [00:24<00:00,  2.03it/s, epoch=23/50, avg_epoch_loss=2.07]\n",
            "100%|██████████| 50/50 [00:25<00:00,  1.98it/s, epoch=24/50, avg_epoch_loss=2.07]\n",
            "100%|██████████| 50/50 [00:24<00:00,  2.02it/s, epoch=25/50, avg_epoch_loss=2.07]\n",
            "100%|██████████| 50/50 [00:23<00:00,  2.10it/s, epoch=26/50, avg_epoch_loss=2.05]\n",
            "100%|██████████| 50/50 [00:24<00:00,  2.03it/s, epoch=27/50, avg_epoch_loss=2.06]\n",
            "100%|██████████| 50/50 [00:24<00:00,  2.01it/s, epoch=28/50, avg_epoch_loss=2.05]\n",
            "100%|██████████| 50/50 [00:23<00:00,  2.09it/s, epoch=29/50, avg_epoch_loss=2.04]\n",
            "100%|██████████| 50/50 [00:24<00:00,  2.01it/s, epoch=30/50, avg_epoch_loss=2.04]\n",
            "100%|██████████| 50/50 [00:24<00:00,  2.06it/s, epoch=31/50, avg_epoch_loss=2.03]\n",
            "100%|██████████| 50/50 [00:24<00:00,  2.08it/s, epoch=32/50, avg_epoch_loss=2.04]\n",
            "100%|██████████| 50/50 [00:25<00:00,  1.95it/s, epoch=33/50, avg_epoch_loss=2.03]\n",
            "100%|██████████| 50/50 [00:24<00:00,  2.08it/s, epoch=34/50, avg_epoch_loss=2.01]\n",
            "100%|██████████| 50/50 [00:25<00:00,  2.00it/s, epoch=35/50, avg_epoch_loss=2.01]\n",
            "100%|██████████| 50/50 [00:25<00:00,  2.00it/s, epoch=36/50, avg_epoch_loss=2.01]\n",
            "100%|██████████| 50/50 [00:24<00:00,  2.01it/s, epoch=37/50, avg_epoch_loss=2]\n",
            "100%|██████████| 50/50 [00:25<00:00,  1.96it/s, epoch=38/50, avg_epoch_loss=2.01]\n",
            "100%|██████████| 50/50 [00:24<00:00,  2.04it/s, epoch=39/50, avg_epoch_loss=1.99]\n",
            "100%|██████████| 50/50 [00:25<00:00,  1.97it/s, epoch=40/50, avg_epoch_loss=2]\n",
            "100%|██████████| 50/50 [00:23<00:00,  2.09it/s, epoch=41/50, avg_epoch_loss=1.98]\n",
            "100%|██████████| 50/50 [00:24<00:00,  2.02it/s, epoch=42/50, avg_epoch_loss=1.98]\n",
            "100%|██████████| 50/50 [00:24<00:00,  2.02it/s, epoch=43/50, avg_epoch_loss=1.99]\n",
            "100%|██████████| 50/50 [00:24<00:00,  2.03it/s, epoch=44/50, avg_epoch_loss=1.97]\n",
            "100%|██████████| 50/50 [00:24<00:00,  2.05it/s, epoch=45/50, avg_epoch_loss=1.97]\n",
            "100%|██████████| 50/50 [00:24<00:00,  2.03it/s, epoch=46/50, avg_epoch_loss=1.97]\n",
            "100%|██████████| 50/50 [00:24<00:00,  2.06it/s, epoch=47/50, avg_epoch_loss=1.97]\n",
            "100%|██████████| 50/50 [00:24<00:00,  2.07it/s, epoch=48/50, avg_epoch_loss=1.95]\n",
            "100%|██████████| 50/50 [00:24<00:00,  2.05it/s, epoch=49/50, avg_epoch_loss=1.95]\n",
            "100%|██████████| 50/50 [00:24<00:00,  2.04it/s, epoch=50/50, avg_epoch_loss=1.95]\n"
          ]
        },
        {
          "output_type": "stream",
          "name": "stdout",
          "text": [
            "[0.21153331, -0.2830732, 0.6578963, -0.28896266, -0.4354282, 0.74087906, -0.1987346, -0.738528, 0.6295948, -0.38131183, 0.48598248, -0.110600665, -0.09531288, -0.55236536, -0.40441898, -0.3186298, -0.030892536, -0.30931532, -0.38260928, 0.042103704, 0.15773368, -0.24429446, 0.25856507, 0.19654801, 0.01977694, -0.057642963, 0.017580912, 0.4268767, 0.40987188, 0.088660255, -0.8206264, -0.3890345, 0.28749552, -0.13591668, 0.58381546, 0.057286967, 0.39899147, 0.3328336, -0.1363305, -0.017115671, 0.19128035, -0.81457376, -1.0301979, -0.39109457, 0.03333963, 0.7959101, -0.37406152, 0.082562566, 0.07772553, 0.1480039, -0.27627295, -0.7545854, 0.027724743, -0.26305673, -0.2913223, 0.51442146, 0.14208317, -0.0018810714, 0.5196043, 0.02790114, 0.32646492, 0.49618447, 0.89242125, -0.33079854, 0.87420845, 0.55389905, 0.11596662, -0.055430476, -0.5306025, 0.3226393, -0.12985744, -0.11693558, -0.31142697, 0.46302122, -0.35438937, 0.38578445, -0.4066052, 0.25913504, 0.30572575, -0.7163822, -0.12090789, 0.14275555, -0.015623845, 0.38721707, -0.06793287, 0.078521, -0.77420783, -0.22750711, -0.4321529, 0.16363874, 0.36140704, 0.1788304, 0.005165443, -0.006374412, 0.022334378, 0.28312713, 0.11008935, -0.13255143, 0.64714193, 0.7213415]\n"
          ]
        }
      ]
    },
    {
      "cell_type": "code",
      "source": [
        "from array import array\n",
        "f_res=np.array(final_results)\n",
        "dff = pd.DataFrame(final_results)\n",
        "dff.plot()"
      ],
      "metadata": {
        "colab": {
          "base_uri": "https://localhost:8080/",
          "height": 283
        },
        "id": "Yh2CE-bajbTC",
        "outputId": "83da95e8-db6b-4d0a-831b-41e944238410"
      },
      "execution_count": 25,
      "outputs": [
        {
          "output_type": "execute_result",
          "data": {
            "text/plain": [
              "<matplotlib.axes._subplots.AxesSubplot at 0x7f3ed23bff10>"
            ]
          },
          "metadata": {},
          "execution_count": 25
        },
        {
          "output_type": "display_data",
          "data": {
            "text/plain": [
              "<Figure size 432x288 with 1 Axes>"
            ],
            "image/png": "[encoded data removed]"
          },
          "metadata": {
            "needs_background": "light"
          }
        }
      ]
    }
  ]
}